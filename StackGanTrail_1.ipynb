{
  "nbformat": 4,
  "nbformat_minor": 0,
  "metadata": {
    "colab": {
      "name": "StackGanTrail-1.ipynb",
      "provenance": [],
      "collapsed_sections": [],
      "include_colab_link": true
    },
    "kernelspec": {
      "name": "python2",
      "display_name": "Python 2"
    },
    "accelerator": "GPU"
  },
  "cells": [
    {
      "cell_type": "markdown",
      "metadata": {
        "id": "view-in-github",
        "colab_type": "text"
      },
      "source": [
        "<a href=\"https://colab.research.google.com/github/akshaya-nagarajan/Text-to-Image-Generation/blob/main/StackGanTrail_1.ipynb\" target=\"_parent\"><img src=\"https://colab.research.google.com/assets/colab-badge.svg\" alt=\"Open In Colab\"/></a>"
      ]
    },
    {
      "cell_type": "code",
      "metadata": {
        "id": "YRhDGDxA_ne7",
        "outputId": "c9a2d4b0-fcd3-4ba4-dc7d-d04bd3970eed",
        "colab": {
          "base_uri": "https://localhost:8080/",
          "height": 124
        }
      },
      "source": [
        "from google.colab import drive\n",
        "drive.mount('/content/gdrive', force_remount=True)\n",
        "root_dir = \"/content/gdrive/My Drive/\"\n",
        "base_dir = root_dir + 'MasterProject/'"
      ],
      "execution_count": null,
      "outputs": [
        {
          "output_type": "stream",
          "text": [
            "Go to this URL in a browser: https://accounts.google.com/o/oauth2/auth?client_id=947318989803-6bn6qk8qdgf4n4g3pfee6491hc0brc4i.apps.googleusercontent.com&redirect_uri=urn%3aietf%3awg%3aoauth%3a2.0%3aoob&scope=email%20https%3a%2f%2fwww.googleapis.com%2fauth%2fdocs.test%20https%3a%2f%2fwww.googleapis.com%2fauth%2fdrive%20https%3a%2f%2fwww.googleapis.com%2fauth%2fdrive.photos.readonly%20https%3a%2f%2fwww.googleapis.com%2fauth%2fpeopleapi.readonly&response_type=code\n",
            "\n",
            "Enter your authorization code:\n",
            "··········\n",
            "Mounted at /content/gdrive\n"
          ],
          "name": "stdout"
        }
      ]
    },
    {
      "cell_type": "code",
      "metadata": {
        "id": "MzVbodww4xwW"
      },
      "source": [
        "!ls"
      ],
      "execution_count": null,
      "outputs": []
    },
    {
      "cell_type": "code",
      "metadata": {
        "id": "sYVzGiz35xLJ"
      },
      "source": [
        "!python --version"
      ],
      "execution_count": null,
      "outputs": []
    },
    {
      "cell_type": "code",
      "metadata": {
        "id": "CXD0kxVH5zTw"
      },
      "source": [
        "%tensorflow_version 1.x"
      ],
      "execution_count": null,
      "outputs": []
    },
    {
      "cell_type": "code",
      "metadata": {
        "id": "dlyPitB96YvJ"
      },
      "source": [
        "!pip install python-dateutil"
      ],
      "execution_count": null,
      "outputs": []
    },
    {
      "cell_type": "code",
      "metadata": {
        "id": "bGPDjF8n6nIb"
      },
      "source": [
        "!pip install easydict"
      ],
      "execution_count": null,
      "outputs": []
    },
    {
      "cell_type": "code",
      "metadata": {
        "id": "U2xbjZTH6r6_"
      },
      "source": [
        "!pip install pandas"
      ],
      "execution_count": null,
      "outputs": []
    },
    {
      "cell_type": "code",
      "metadata": {
        "id": "8LU3umAn6vOo"
      },
      "source": [
        "!pip install torchfile"
      ],
      "execution_count": null,
      "outputs": []
    },
    {
      "cell_type": "code",
      "metadata": {
        "id": "O1ZYrlwDDTbx"
      },
      "source": [
        "!pip install  tensorboard-pytorch"
      ],
      "execution_count": null,
      "outputs": []
    },
    {
      "cell_type": "code",
      "metadata": {
        "id": "enGPKjIe2rbw",
        "outputId": "9d0c206a-af22-48dc-e936-8a9b5cac5f4b",
        "colab": {
          "base_uri": "https://localhost:8080/",
          "height": 34
        }
      },
      "source": [
        "cd gdrive/My\\ Drive/MasterProject/StackGAN-v2/StackGAN-v2-master/code"
      ],
      "execution_count": null,
      "outputs": [
        {
          "output_type": "stream",
          "text": [
            "/content/gdrive/My Drive/MasterProject/StackGAN-v2/StackGAN-v2-master/code\n"
          ],
          "name": "stdout"
        }
      ]
    },
    {
      "cell_type": "code",
      "metadata": {
        "id": "ZSSeF0GD59yU"
      },
      "source": [
        "!pip install torch vision torch"
      ],
      "execution_count": null,
      "outputs": []
    },
    {
      "cell_type": "code",
      "metadata": {
        "id": "13yLGql-6yI-",
        "outputId": "3c51963e-b191-43f8-f6b5-5861f6d259a4",
        "colab": {
          "base_uri": "https://localhost:8080/",
          "height": 1000
        }
      },
      "source": [
        "!python main.py --cfg cfg/birds_3stages.yml --gpu 0"
      ],
      "execution_count": null,
      "outputs": [
        {
          "output_type": "stream",
          "text": [
            "Using config:\n",
            "{'CONFIG_NAME': '3stages',\n",
            " 'CUDA': True,\n",
            " 'DATASET_NAME': 'birds',\n",
            " 'DATA_DIR': '../data/birds',\n",
            " 'EMBEDDING_TYPE': 'cnn-rnn',\n",
            " 'GAN': {'B_CONDITION': True,\n",
            "         'DF_DIM': 64,\n",
            "         'EMBEDDING_DIM': 128,\n",
            "         'GF_DIM': 64,\n",
            "         'NETWORK_TYPE': 'default',\n",
            "         'R_NUM': 2,\n",
            "         'Z_DIM': 100},\n",
            " 'GPU_ID': '0',\n",
            " 'TEST': {'B_EXAMPLE': True, 'SAMPLE_NUM': 30000},\n",
            " 'TEXT': {'DIMENSION': 1024},\n",
            " 'TRAIN': {'BATCH_SIZE': 24,\n",
            "           'COEFF': {'COLOR_LOSS': 0.0, 'KL': 2.0, 'UNCOND_LOSS': 1.0},\n",
            "           'DISCRIMINATOR_LR': 0.0002,\n",
            "           'FLAG': True,\n",
            "           'GENERATOR_LR': 0.0002,\n",
            "           'MAX_EPOCH': 3,\n",
            "           'NET_D': '',\n",
            "           'NET_G': '',\n",
            "           'SNAPSHOT_INTERVAL': 2000,\n",
            "           'VIS_COUNT': 64},\n",
            " 'TREE': {'BASE_SIZE': 64, 'BRANCH_NUM': 3},\n",
            " 'WORKERS': 4}\n",
            "/usr/local/lib/python2.7/dist-packages/torchvision/transforms/transforms.py:220: UserWarning: The use of the transforms.Scale transform is deprecated, please use transforms.Resize instead.\n",
            "  \"please use transforms.Resize instead.\")\n",
            "Total filenames:  11788 001.Black_footed_Albatross/Black_Footed_Albatross_0046_18.jpg\n",
            "Load filenames from: ../data/birds/train/filenames.pickle (8855)\n",
            "embeddings:  (8855, 10, 1024)\n",
            "/content/gdrive/My Drive/MasterProject/StackGAN-v2/StackGAN-v2-master/code/trainer.py:65: UserWarning: nn.init.orthogonal is now deprecated in favor of nn.init.orthogonal_.\n",
            "  nn.init.orthogonal(m.weight.data, 1.0)\n",
            "/content/gdrive/My Drive/MasterProject/StackGAN-v2/StackGAN-v2-master/code/trainer.py:60: UserWarning: nn.init.orthogonal is now deprecated in favor of nn.init.orthogonal_.\n",
            "  nn.init.orthogonal(m.weight.data, 1.0)\n",
            "DataParallel(\n",
            "  (module): G_NET(\n",
            "    (ca_net): CA_NET(\n",
            "      (fc): Linear(in_features=1024, out_features=512, bias=True)\n",
            "      (relu): GLU()\n",
            "    )\n",
            "    (h_net1): INIT_STAGE_G(\n",
            "      (fc): Sequential(\n",
            "        (0): Linear(in_features=228, out_features=32768, bias=False)\n",
            "        (1): BatchNorm1d(32768, eps=1e-05, momentum=0.1, affine=True, track_running_stats=True)\n",
            "        (2): GLU()\n",
            "      )\n",
            "      (upsample1): Sequential(\n",
            "        (0): Upsample(scale_factor=2.0, mode=nearest)\n",
            "        (1): Conv2d(1024, 1024, kernel_size=(3, 3), stride=(1, 1), padding=(1, 1), bias=False)\n",
            "        (2): BatchNorm2d(1024, eps=1e-05, momentum=0.1, affine=True, track_running_stats=True)\n",
            "        (3): GLU()\n",
            "      )\n",
            "      (upsample2): Sequential(\n",
            "        (0): Upsample(scale_factor=2.0, mode=nearest)\n",
            "        (1): Conv2d(512, 512, kernel_size=(3, 3), stride=(1, 1), padding=(1, 1), bias=False)\n",
            "        (2): BatchNorm2d(512, eps=1e-05, momentum=0.1, affine=True, track_running_stats=True)\n",
            "        (3): GLU()\n",
            "      )\n",
            "      (upsample3): Sequential(\n",
            "        (0): Upsample(scale_factor=2.0, mode=nearest)\n",
            "        (1): Conv2d(256, 256, kernel_size=(3, 3), stride=(1, 1), padding=(1, 1), bias=False)\n",
            "        (2): BatchNorm2d(256, eps=1e-05, momentum=0.1, affine=True, track_running_stats=True)\n",
            "        (3): GLU()\n",
            "      )\n",
            "      (upsample4): Sequential(\n",
            "        (0): Upsample(scale_factor=2.0, mode=nearest)\n",
            "        (1): Conv2d(128, 128, kernel_size=(3, 3), stride=(1, 1), padding=(1, 1), bias=False)\n",
            "        (2): BatchNorm2d(128, eps=1e-05, momentum=0.1, affine=True, track_running_stats=True)\n",
            "        (3): GLU()\n",
            "      )\n",
            "    )\n",
            "    (img_net1): GET_IMAGE_G(\n",
            "      (img): Sequential(\n",
            "        (0): Conv2d(64, 3, kernel_size=(3, 3), stride=(1, 1), padding=(1, 1), bias=False)\n",
            "        (1): Tanh()\n",
            "      )\n",
            "    )\n",
            "    (h_net2): NEXT_STAGE_G(\n",
            "      (jointConv): Sequential(\n",
            "        (0): Conv2d(192, 128, kernel_size=(3, 3), stride=(1, 1), padding=(1, 1), bias=False)\n",
            "        (1): BatchNorm2d(128, eps=1e-05, momentum=0.1, affine=True, track_running_stats=True)\n",
            "        (2): GLU()\n",
            "      )\n",
            "      (residual): Sequential(\n",
            "        (0): ResBlock(\n",
            "          (block): Sequential(\n",
            "            (0): Conv2d(64, 128, kernel_size=(3, 3), stride=(1, 1), padding=(1, 1), bias=False)\n",
            "            (1): BatchNorm2d(128, eps=1e-05, momentum=0.1, affine=True, track_running_stats=True)\n",
            "            (2): GLU()\n",
            "            (3): Conv2d(64, 64, kernel_size=(3, 3), stride=(1, 1), padding=(1, 1), bias=False)\n",
            "            (4): BatchNorm2d(64, eps=1e-05, momentum=0.1, affine=True, track_running_stats=True)\n",
            "          )\n",
            "        )\n",
            "        (1): ResBlock(\n",
            "          (block): Sequential(\n",
            "            (0): Conv2d(64, 128, kernel_size=(3, 3), stride=(1, 1), padding=(1, 1), bias=False)\n",
            "            (1): BatchNorm2d(128, eps=1e-05, momentum=0.1, affine=True, track_running_stats=True)\n",
            "            (2): GLU()\n",
            "            (3): Conv2d(64, 64, kernel_size=(3, 3), stride=(1, 1), padding=(1, 1), bias=False)\n",
            "            (4): BatchNorm2d(64, eps=1e-05, momentum=0.1, affine=True, track_running_stats=True)\n",
            "          )\n",
            "        )\n",
            "      )\n",
            "      (upsample): Sequential(\n",
            "        (0): Upsample(scale_factor=2.0, mode=nearest)\n",
            "        (1): Conv2d(64, 64, kernel_size=(3, 3), stride=(1, 1), padding=(1, 1), bias=False)\n",
            "        (2): BatchNorm2d(64, eps=1e-05, momentum=0.1, affine=True, track_running_stats=True)\n",
            "        (3): GLU()\n",
            "      )\n",
            "    )\n",
            "    (img_net2): GET_IMAGE_G(\n",
            "      (img): Sequential(\n",
            "        (0): Conv2d(32, 3, kernel_size=(3, 3), stride=(1, 1), padding=(1, 1), bias=False)\n",
            "        (1): Tanh()\n",
            "      )\n",
            "    )\n",
            "    (h_net3): NEXT_STAGE_G(\n",
            "      (jointConv): Sequential(\n",
            "        (0): Conv2d(160, 64, kernel_size=(3, 3), stride=(1, 1), padding=(1, 1), bias=False)\n",
            "        (1): BatchNorm2d(64, eps=1e-05, momentum=0.1, affine=True, track_running_stats=True)\n",
            "        (2): GLU()\n",
            "      )\n",
            "      (residual): Sequential(\n",
            "        (0): ResBlock(\n",
            "          (block): Sequential(\n",
            "            (0): Conv2d(32, 64, kernel_size=(3, 3), stride=(1, 1), padding=(1, 1), bias=False)\n",
            "            (1): BatchNorm2d(64, eps=1e-05, momentum=0.1, affine=True, track_running_stats=True)\n",
            "            (2): GLU()\n",
            "            (3): Conv2d(32, 32, kernel_size=(3, 3), stride=(1, 1), padding=(1, 1), bias=False)\n",
            "            (4): BatchNorm2d(32, eps=1e-05, momentum=0.1, affine=True, track_running_stats=True)\n",
            "          )\n",
            "        )\n",
            "        (1): ResBlock(\n",
            "          (block): Sequential(\n",
            "            (0): Conv2d(32, 64, kernel_size=(3, 3), stride=(1, 1), padding=(1, 1), bias=False)\n",
            "            (1): BatchNorm2d(64, eps=1e-05, momentum=0.1, affine=True, track_running_stats=True)\n",
            "            (2): GLU()\n",
            "            (3): Conv2d(32, 32, kernel_size=(3, 3), stride=(1, 1), padding=(1, 1), bias=False)\n",
            "            (4): BatchNorm2d(32, eps=1e-05, momentum=0.1, affine=True, track_running_stats=True)\n",
            "          )\n",
            "        )\n",
            "      )\n",
            "      (upsample): Sequential(\n",
            "        (0): Upsample(scale_factor=2.0, mode=nearest)\n",
            "        (1): Conv2d(32, 32, kernel_size=(3, 3), stride=(1, 1), padding=(1, 1), bias=False)\n",
            "        (2): BatchNorm2d(32, eps=1e-05, momentum=0.1, affine=True, track_running_stats=True)\n",
            "        (3): GLU()\n",
            "      )\n",
            "    )\n",
            "    (img_net3): GET_IMAGE_G(\n",
            "      (img): Sequential(\n",
            "        (0): Conv2d(16, 3, kernel_size=(3, 3), stride=(1, 1), padding=(1, 1), bias=False)\n",
            "        (1): Tanh()\n",
            "      )\n",
            "    )\n",
            "  )\n",
            ")\n",
            "# of netsD 3\n",
            "Downloading: \"https://download.pytorch.org/models/inception_v3_google-1a9a5a14.pth\" to /root/.cache/torch/checkpoints/inception_v3_google-1a9a5a14.pth\n",
            "100% 104M/104M [00:01<00:00, 93.2MB/s]\n",
            "('Load pretrained model from ', 'https://download.pytorch.org/models/inception_v3_google-1a9a5a14.pth')\n",
            "/usr/local/lib/python2.7/dist-packages/torch/nn/functional.py:1351: UserWarning: nn.functional.sigmoid is deprecated. Use torch.sigmoid instead.\n",
            "  warnings.warn(\"nn.functional.sigmoid is deprecated. Use torch.sigmoid instead.\")\n",
            "/usr/local/lib/python2.7/dist-packages/torch/nn/functional.py:2506: UserWarning: Default upsampling behavior when mode=bilinear is changed to align_corners=False since 0.4.0. Please specify align_corners=True if the old behavior is desired. See the documentation of nn.Upsample for details.\n",
            "  \"See the documentation of nn.Upsample for details.\".format(mode))\n",
            "/content/gdrive/My Drive/MasterProject/StackGAN-v2/StackGAN-v2-master/code/model.py:43: UserWarning: Implicit dimension choice for softmax has been deprecated. Change the call to include dim=X as an argument.\n",
            "  x = nn.Softmax()(x)\n",
            "[0/3][368]\n",
            "                         Loss_D: 9.94 Loss_G: 8.37 Loss_KL: 0.07 Time: 1125.71s\n",
            "                      \n",
            "[1/3][368]\n",
            "                         Loss_D: 10.25 Loss_G: 7.68 Loss_KL: 0.23 Time: 279.33s\n",
            "                      \n",
            "[2/3][368]\n",
            "                         Loss_D: 10.14 Loss_G: 8.08 Loss_KL: 0.60 Time: 279.21s\n",
            "                      \n",
            "Save G/Ds models.\n",
            "Total time for training: 1710.97896314\n"
          ],
          "name": "stdout"
        }
      ]
    },
    {
      "cell_type": "code",
      "metadata": {
        "id": "D1c2vluM4C3s"
      },
      "source": [
        "!ls gdrive/My\\ Drive/MasterProject/StackGAN-v2/StackGAN-v2-master/data"
      ],
      "execution_count": null,
      "outputs": []
    },
    {
      "cell_type": "code",
      "metadata": {
        "id": "gS31zVl34Guu"
      },
      "source": [
        "!ls"
      ],
      "execution_count": null,
      "outputs": []
    }
  ]
}